{
 "cells": [
  {
   "cell_type": "code",
   "execution_count": 1,
   "metadata": {},
   "outputs": [
    {
     "name": "stderr",
     "output_type": "stream",
     "text": [
      "RDKit WARNING: [21:10:34] Enabling RDKit 2019.09.3 jupyter extensions\n"
     ]
    }
   ],
   "source": [
    "import numpy as np\n",
    "from rdkit import Chem, DataStructs\n",
    "from rdkit.Chem import AllChem\n",
    "import pandas as pd\n",
    "import matplotlib.pyplot as plt\n",
    "from sklearn.metrics import r2_score\n",
    "import tensorflow as tf\n",
    "from sklearn.model_selection import KFold\n",
    "from tensorflow.keras.utils import to_categorical\n",
    "from tensorflow.keras import Sequential\n",
    "from tensorflow.keras.layers import Dense,Dropout\n",
    "file=r\"C:\\Users\\VISWAM\\Downloads\\amf.csv\"\n",
    "db=pd.read_csv(file)\n",
    "#Converting SMILES to ECFP values \n",
    "def get_fingerprint(smiles,size=8192):\n",
    "  if ((smiles is None) or (pd.isnull(smiles))):\n",
    "    return np.zeros((size,))\n",
    "  molecule = Chem.MolFromSmiles(smiles)\n",
    "  if molecule is None:\n",
    "    return np.zeros((size,))\n",
    "  fingerprint = AllChem.GetMorganFingerprintAsBitVect(\n",
    "      molecule, 2, size)\n",
    "  arr = np.zeros((1,))\n",
    "  DataStructs.ConvertToNumpyArray(fingerprint, arr)\n",
    "  return arr \n",
    "cols=db.columns[[0,2,4,6,8,12]]\n",
    "col=db.columns[[1,3,5,7]]\n",
    "array=[]\n",
    "for a in cols:\n",
    "    j=[]\n",
    "    for i in range(0,len(db[a])):\n",
    "     temp=(get_fingerprint(db[a][i])).astype(int)\n",
    "     j.append(temp)\n",
    "    db[a]=j\n",
    "db.head()\n",
    "db.fillna(0,inplace=True)\n",
    "db2=pd.concat([pd.DataFrame(db[\"R\"].values.tolist()), pd.DataFrame(db[\"r1\"].values.tolist()),pd.DataFrame(db[\"r2\"].values.tolist()),pd.DataFrame(db[\"c1\"].values.tolist()),db['c1c'],pd.DataFrame(db[\"c2\"].values.tolist()),db['c2c'],pd.DataFrame(db[\"p\"].values.tolist()),db['t'],db['T'],db['m'],db['am'],db['l'],db['s']], axis=1)\n",
    "co=[\"c1c\",\"c2c\",\"t\",\"T\"]\n",
    "db2[co]=(db2[co]-db2[co].mean())/db2[co].std()\n",
    "db3=db['y']"
   ]
  },
  {
   "cell_type": "code",
   "execution_count": null,
   "metadata": {},
   "outputs": [],
   "source": [
    "#kfold validation with k=10\n",
    "train=[]\n",
    "trains=[]\n",
    "test=[]\n",
    "tests=[]\n",
    "trainr=[]\n",
    "testr=[]\n",
    "testd=[]\n",
    "kf = KFold(n_splits=10,random_state=35, shuffle=True)\n",
    "for tr,te in kf.split(db2,db3):\n",
    "    model = Sequential()\n",
    "    reg = tf.keras.regularizers.l1_l2(l1=0.0001, l2=0.008)\n",
    "    model.add(Dense(256 ,input_dim=db2.iloc[tr].shape[1], kernel_initializer='normal', kernel_regularizer=reg, activation='relu'))\n",
    "    model.add(Dropout(0.4))\n",
    "    model.add(Dense(384, kernel_initializer='normal', kernel_regularizer=reg, activation='relu'))\n",
    "    model.add(Dropout(0.4))\n",
    "    model.add(Dense(384, kernel_initializer='normal', kernel_regularizer=reg, activation='relu'))\n",
    "    model.add(Dropout(0.4))\n",
    "    model.add(Dense(512, kernel_initializer='normal', kernel_regularizer=reg, activation='relu'))\n",
    "    model.add(Dropout(0.4))\n",
    "    model.add(Dense(1, kernel_initializer='normal'))\n",
    "    model.compile(loss='mean_squared_error', optimizer='adam')\n",
    "    history= model.fit(db2.iloc[tr], db3.iloc[tr], validation_data=(db2.iloc[te], db3.iloc[te]), epochs=100,verbose=0)\n",
    "    yp=model.predict(db2.iloc[te])\n",
    "    xp=model.predict(db2.iloc[tr])\n",
    "    ya=db3.iloc[te].values.reshape((db3.iloc[te].shape[0],1))\n",
    "    xa=db3.iloc[tr].values.reshape((db3.iloc[tr].shape[0],1))\n",
    "    test.append(np.mean(np.abs(yp-ya)))\n",
    "    train.append(np.mean(np.abs(xp-xa)))\n",
    "    tests.append(np.std(np.abs(yp-ya)))\n",
    "    trains.append(np.std(np.abs(xp-xa)))\n",
    "    testr.append(r2_score(ya,yp))\n",
    "    trainr.append(r2_score(xa,xp))"
   ]
  },
  {
   "cell_type": "code",
   "execution_count": null,
   "metadata": {},
   "outputs": [],
   "source": [
    "print(np.mean(train),np.mean(test))\n",
    "n=[1,2,3,4,5,6,7,8,9,10]\n",
    "n=np.array(n)\n",
    "t=np.transpose(test)\n",
    "t1=np.transpose(train)\n",
    "fig=plt.figure()\n",
    "plt.figure(figsize=(10,6))\n",
    "plt.title(\"Kfold-Error\")\n",
    "plt.bar(n,t1,.4,label='Train set',color='darkkhaki')\n",
    "plt.bar(n+.3,t,.4,label='Test set',)\n",
    "plt.xticks(np.arange(len(n)+1))\n",
    "plt.xlabel(\"Iteration number\")\n",
    "plt.ylabel(\"Error\")\n",
    "plt.ylim(0,18)\n",
    "plt.legend(bbox_to_anchor=(1,0), loc=\"lower right\", \n",
    "                bbox_transform=fig.transFigure, ncol=2)\n",
    "plt.savefig('regression.png')\n",
    "plt.show()"
   ]
  },
  {
   "cell_type": "code",
   "execution_count": null,
   "metadata": {},
   "outputs": [],
   "source": [
    "print(np.mean(trainr),np.mean(testr))\n",
    "n=[1,2,3,4,5,6,7,8,9,10]\n",
    "n=np.array(n)\n",
    "p=np.transpose(testr)\n",
    "p1=np.transpose(trainr)\n",
    "fig=plt.figure()\n",
    "plt.figure(figsize=(10,6))\n",
    "plt.title(\"Kfold-R2score\")\n",
    "plt.bar(n,p1,.4,label='Train set',color='darkkhaki')\n",
    "plt.bar(n+.3,p,.4,label='Test set')\n",
    "plt.xticks(np.arange(len(n)+1))\n",
    "plt.xlabel(\"Iteration number\")\n",
    "plt.ylabel(\"R2 Score\")\n",
    "plt.ylim(0,1)\n",
    "plt.legend(bbox_to_anchor=(1,0), loc=\"lower right\", \n",
    "                bbox_transform=fig.transFigure, ncol=2)\n",
    "plt.savefig('regression1.png')\n",
    "plt.show()"
   ]
  },
  {
   "cell_type": "code",
   "execution_count": null,
   "metadata": {},
   "outputs": [],
   "source": []
  }
 ],
 "metadata": {
  "kernelspec": {
   "display_name": "Python 3",
   "language": "python",
   "name": "python3"
  },
  "language_info": {
   "codemirror_mode": {
    "name": "ipython",
    "version": 3
   },
   "file_extension": ".py",
   "mimetype": "text/x-python",
   "name": "python",
   "nbconvert_exporter": "python",
   "pygments_lexer": "ipython3",
   "version": "3.7.6"
  }
 },
 "nbformat": 4,
 "nbformat_minor": 4
}
